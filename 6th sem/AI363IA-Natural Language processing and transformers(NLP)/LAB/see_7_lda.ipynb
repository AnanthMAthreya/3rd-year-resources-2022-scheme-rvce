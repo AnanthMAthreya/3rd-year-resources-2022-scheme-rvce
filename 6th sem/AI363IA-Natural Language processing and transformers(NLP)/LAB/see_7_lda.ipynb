{
 "cells": [
  {
   "cell_type": "code",
   "execution_count": 7,
   "metadata": {},
   "outputs": [],
   "source": [
    "import pandas as pd\n",
    "\n",
    "from nltk.tokenize import word_tokenize\n",
    "from nltk.corpus import stopwords\n",
    "\n",
    "from gensim.corpora import Dictionary\n",
    "from gensim.models import LsiModel"
   ]
  },
  {
   "cell_type": "code",
   "execution_count": 8,
   "metadata": {},
   "outputs": [],
   "source": [
    "df=pd.read_csv(\"/Users/swastikagarwal/Downloads/SEM5_RVCE/LAB WORK/NLP/nlp dataset/quora_questions (1).csv\")\n",
    "data=df.sample(1000)\n",
    "data=df['Question']"
   ]
  },
  {
   "cell_type": "code",
   "execution_count": 9,
   "metadata": {},
   "outputs": [],
   "source": [
    "s_w=set(stopwords.words('english'))"
   ]
  },
  {
   "cell_type": "code",
   "execution_count": 13,
   "metadata": {},
   "outputs": [],
   "source": [
    "#preprocess text\n",
    "\n",
    "def preprocess(text):\n",
    "    text=text.lower()\n",
    "    import re\n",
    "    text=re.sub(r'[^\\w\\s]','',text)\n",
    "    ls=[]\n",
    "\n",
    "    words=word_tokenize(text)\n",
    "\n",
    "    for word in words:\n",
    "        if word not in s_w:\n",
    "            ls.append(word)\n",
    "    return ls"
   ]
  },
  {
   "cell_type": "code",
   "execution_count": 14,
   "metadata": {},
   "outputs": [],
   "source": [
    "data=data.apply(preprocess)"
   ]
  },
  {
   "cell_type": "code",
   "execution_count": 17,
   "metadata": {},
   "outputs": [],
   "source": [
    "dictionary=Dictionary(data)\n",
    "bow_corpus=[]\n",
    "\n",
    "for text in data:\n",
    "    bow_corpus.append(dictionary.doc2bow(text))\n",
    "n=5\n",
    "\n",
    "model=LsiModel(bow_corpus,n,dictionary)\n",
    "topics=model.show_topics(n,3)\n",
    "\n",
    "tl=[]\n",
    "\n",
    "for topic in topics:\n",
    "    tl.append(topic)"
   ]
  },
  {
   "cell_type": "code",
   "execution_count": 18,
   "metadata": {},
   "outputs": [
    {
     "name": "stdout",
     "output_type": "stream",
     "text": [
      "topic 0 : (0, '0.952*\"best\" + 0.164*\"way\" + 0.099*\"india\"')\n",
      "topic 1 : (1, '0.844*\"get\" + 0.191*\"people\" + -0.175*\"best\"')\n",
      "topic 2 : (2, '-0.482*\"get\" + 0.366*\"india\" + 0.347*\"people\"')\n",
      "topic 3 : (3, '-0.678*\"india\" + 0.497*\"people\" + 0.230*\"quora\"')\n",
      "topic 4 : (4, '-0.541*\"people\" + 0.477*\"would\" + 0.472*\"like\"')\n"
     ]
    }
   ],
   "source": [
    "for i, topic in enumerate(tl):\n",
    "    print(\"topic {} : {}\".format(i,topic))"
   ]
  },
  {
   "cell_type": "code",
   "execution_count": null,
   "metadata": {},
   "outputs": [],
   "source": []
  }
 ],
 "metadata": {
  "kernelspec": {
   "display_name": "Python 3.9.6 64-bit",
   "language": "python",
   "name": "python3"
  },
  "language_info": {
   "codemirror_mode": {
    "name": "ipython",
    "version": 3
   },
   "file_extension": ".py",
   "mimetype": "text/x-python",
   "name": "python",
   "nbconvert_exporter": "python",
   "pygments_lexer": "ipython3",
   "version": "3.9.6"
  },
  "orig_nbformat": 4,
  "vscode": {
   "interpreter": {
    "hash": "31f2aee4e71d21fbe5cf8b01ff0e069b9275f58929596ceb00d14d90e3e16cd6"
   }
  }
 },
 "nbformat": 4,
 "nbformat_minor": 2
}
