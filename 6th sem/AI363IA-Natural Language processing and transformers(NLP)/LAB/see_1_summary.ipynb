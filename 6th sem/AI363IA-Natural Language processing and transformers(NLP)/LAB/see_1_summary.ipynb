{
 "cells": [
  {
   "cell_type": "code",
   "execution_count": 22,
   "metadata": {},
   "outputs": [],
   "source": [
    "from nltk.tokenize import sent_tokenize,word_tokenize\n",
    "from nltk.corpus import stopwords\n",
    "import numpy as np"
   ]
  },
  {
   "cell_type": "code",
   "execution_count": 23,
   "metadata": {},
   "outputs": [],
   "source": [
    "def tf_idf(sentence,sentences):\n",
    "    #preprocess the text \n",
    "\n",
    "    def preprocess(text):\n",
    "        text=text.lower()\n",
    "        cleaned=[]\n",
    "        words=word_tokenize(text)\n",
    "        s_w=set(stopwords.words('english'))\n",
    "\n",
    "        for word in words:\n",
    "            if word not in s_w:\n",
    "                if word.isalnum():\n",
    "                    cleaned.append(word)\n",
    "        return cleaned\n",
    "\n",
    "\n",
    "    #calculate tf in the whole document\n",
    "\n",
    "    def tf(word,sentence):\n",
    "        count=0\n",
    "        words=word_tokenize(sentence)\n",
    "        for w in words:\n",
    "            if word==w:\n",
    "                count=count+1\n",
    "        return count/len(words)\n",
    "        # words = sentence.split()\n",
    "        # return words.count(word) / (len(words))\n",
    "\n",
    "\n",
    "    #calculate idf in the whole docuement\n",
    "    def idf(word,sentences):\n",
    "        count=0\n",
    "        \n",
    "        for sent in sentences:\n",
    "            if word in sent:\n",
    "                count+=1\n",
    "        return np.log(len(sentences)/(count+1))\n",
    "\n",
    "\n",
    "    words=preprocess(sentence)\n",
    "    tf_idf_score=0\n",
    "    for word in words:\n",
    "        tf_score=tf(word,sentence)\n",
    "        idf_scroe=idf(word,sentences)\n",
    "        tf_idf_score+=tf_score*idf_scroe\n",
    "\n",
    "    return tf_idf_score\n",
    "\n",
    "\n",
    "    "
   ]
  },
  {
   "cell_type": "code",
   "execution_count": 24,
   "metadata": {},
   "outputs": [],
   "source": [
    "def summarizer(text,length):\n",
    "    #this creates a dictionary to store sentence and score wrt to sentences and then later extract top_k sentences\n",
    "\n",
    "    sent_score={}\n",
    "\n",
    "    sentences=sent_tokenize(text)\n",
    "\n",
    "    for sentence in sentences:\n",
    "        score=tf_idf(sentence,sentences)\n",
    "        sent_score[sentence]=score\n",
    "    \n",
    "    top_k=[]\n",
    "    for i in range(0,length):\n",
    "        cur_sent = None\n",
    "        cur_score = -999\n",
    "        for sent,score in sent_score.items():\n",
    "            if score>cur_score:\n",
    "                cur_score=score\n",
    "                cur_sent=sent\n",
    "        if cur_sent is not None:\n",
    "            top_k.append(cur_sent)\n",
    "            del sent_score[cur_sent]\n",
    "    \n",
    "    summary=' '.join(top_k)\n",
    "    return summary\n",
    "\n",
    "\n",
    "        \n"
   ]
  },
  {
   "cell_type": "code",
   "execution_count": 25,
   "metadata": {},
   "outputs": [
    {
     "name": "stdout",
     "output_type": "stream",
     "text": [
      "Dhoni retired from test cricket in 2014, but continued playing in limited overs cricket till 2019.He has scored 17,266 runs in international cricket including 10,000 plus runs at an average of more than 50 in ODIs.In 2007, he became the captain of the ODI side before taking over in all formats by 2008.\n"
     ]
    }
   ],
   "source": [
    "#tf-idf sentence summary\n",
    "\n",
    "text=\"\"\"\n",
    "Born in Ranchi, Dhoni made his first class debut for Bihar in 1999. He made his debut for the Indian cricket team on 23 December 2004 in an ODI against Bangladesh and played his first test a year later against Sri Lanka. In 2007, he became the captain of the ODI side before taking over in all formats by 2008. Dhoni retired from test cricket in 2014, but continued playing in limited overs cricket till 2019. He has scored 17,266 runs in international cricket including 10,000 plus runs at an average of more than 50 in ODIs.\n",
    "\"\"\"\n",
    "summary=summarizer(text,3)\n",
    "print(summary)\n"
   ]
  },
  {
   "cell_type": "code",
   "execution_count": null,
   "metadata": {},
   "outputs": [],
   "source": []
  }
 ],
 "metadata": {
  "kernelspec": {
   "display_name": "Python 3.9.6 64-bit",
   "language": "python",
   "name": "python3"
  },
  "language_info": {
   "codemirror_mode": {
    "name": "ipython",
    "version": 3
   },
   "file_extension": ".py",
   "mimetype": "text/x-python",
   "name": "python",
   "nbconvert_exporter": "python",
   "pygments_lexer": "ipython3",
   "version": "3.9.6"
  },
  "orig_nbformat": 4,
  "vscode": {
   "interpreter": {
    "hash": "31f2aee4e71d21fbe5cf8b01ff0e069b9275f58929596ceb00d14d90e3e16cd6"
   }
  }
 },
 "nbformat": 4,
 "nbformat_minor": 2
}
