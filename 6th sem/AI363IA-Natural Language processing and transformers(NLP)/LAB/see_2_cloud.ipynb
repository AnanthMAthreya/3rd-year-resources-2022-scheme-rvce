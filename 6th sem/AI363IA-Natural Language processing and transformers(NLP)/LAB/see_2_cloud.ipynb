{
 "cells": [
  {
   "cell_type": "code",
   "execution_count": 1,
   "metadata": {},
   "outputs": [],
   "source": [
    "import matplotlib.pyplot as plt\n",
    "import random \n",
    "from nltk.corpus import stopwords\n",
    "from nltk.tokenize import word_tokenize"
   ]
  },
  {
   "cell_type": "code",
   "execution_count": 3,
   "metadata": {},
   "outputs": [],
   "source": [
    "def preprocess(text):\n",
    "    words=word_tokenize(text)\n",
    "    s_w=set(stopwords.words('english'))\n",
    "\n",
    "    dictionary={}\n",
    "    for word in words:\n",
    "        if word not in s_w and word.isalnum():\n",
    "            if word in dictionary.keys():\n",
    "                dictionary[word]+=1\n",
    "            else:\n",
    "                dictionary[word]=1\n",
    "    return dictionary"
   ]
  },
  {
   "cell_type": "code",
   "execution_count": 14,
   "metadata": {},
   "outputs": [],
   "source": [
    "def wordcloud(freq):\n",
    "    plt.figure()\n",
    "\n",
    "    #sort the dictionary\n",
    "    freq=sorted(freq.items(),key=lambda x:x[1], reverse=True)\n",
    "\n",
    "    grid_size=10\n",
    "    grid=[]\n",
    "\n",
    "    for i in range(grid_size):\n",
    "        row=[False]*10\n",
    "        grid.append(row)\n",
    "\n",
    "    for key, val in freq:\n",
    "        x, y = random.randint(0, grid_size-1), random.randint(0, grid_size-1)\n",
    "\n",
    "        while grid[x][y]:\n",
    "            x, y = random.randint(\n",
    "                0, grid_size-1), random.randint(0, grid_size-1)\n",
    "        grid[x][y]=True\n",
    "\n",
    "        color = (random.random(), random.random(), random.random())\n",
    "        plt.text(x/grid_size,y/grid_size,key,fontsize=val*10, color=color)\n",
    "    plt.show()"
   ]
  },
  {
   "cell_type": "code",
   "execution_count": 17,
   "metadata": {},
   "outputs": [
    {
     "data": {
      "image/png": "[encoded data removed]",
      "text/plain": [
       "<Figure size 640x480 with 1 Axes>"
      ]
     },
     "metadata": {},
     "output_type": "display_data"
    }
   ],
   "source": [
    "text=\"\"\"hi hi hi hi hello lol artifical artifical\n",
    "\"\"\"\n",
    "text=preprocess(text)\n",
    "wordcloud(text)"
   ]
  },
  {
   "cell_type": "code",
   "execution_count": null,
   "metadata": {},
   "outputs": [],
   "source": []
  },
  {
   "cell_type": "code",
   "execution_count": null,
   "metadata": {},
   "outputs": [],
   "source": []
  }
 ],
 "metadata": {
  "kernelspec": {
   "display_name": "Python 3.9.6 64-bit",
   "language": "python",
   "name": "python3"
  },
  "language_info": {
   "codemirror_mode": {
    "name": "ipython",
    "version": 3
   },
   "file_extension": ".py",
   "mimetype": "text/x-python",
   "name": "python",
   "nbconvert_exporter": "python",
   "pygments_lexer": "ipython3",
   "version": "3.9.6"
  },
  "orig_nbformat": 4,
  "vscode": {
   "interpreter": {
    "hash": "31f2aee4e71d21fbe5cf8b01ff0e069b9275f58929596ceb00d14d90e3e16cd6"
   }
  }
 },
 "nbformat": 4,
 "nbformat_minor": 2
}
