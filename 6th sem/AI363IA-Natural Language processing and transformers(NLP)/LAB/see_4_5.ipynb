{
 "cells": [
  {
   "cell_type": "code",
   "execution_count": 1,
   "metadata": {},
   "outputs": [],
   "source": [
    "from sklearn.metrics import accuracy_score\n",
    "from sklearn.naive_bayes import MultinomialNB\n",
    "from sklearn.model_selection import train_test_split\n",
    "import pandas as pd\n",
    "from sklearn.linear_model import LogisticRegression\n",
    "\n",
    "\n",
    "def calculatewordfreq(words):\n",
    "    word_freq = {}\n",
    "    for word in words:\n",
    "        if word in word_freq:\n",
    "            word_freq[word] += 1\n",
    "        else:\n",
    "            word_freq[word] = 1\n",
    "\n",
    "    return word_freq\n",
    "\n",
    "\n",
    "def calculate_ngrams(docs, n):\n",
    "    ngram_list = []\n",
    "\n",
    "    # Iterate over each document in the input list\n",
    "    for doc in docs:\n",
    "\n",
    "        words = doc.split()\n",
    "        doc_ngrams = []\n",
    "\n",
    "        # Generate n-grams for the current document\n",
    "        for i in range(len(words) - n + 1):\n",
    "            n_gram = words[i:i + n]\n",
    "            n_gram_tuple = tuple(n_gram)\n",
    "            doc_ngrams.append(n_gram_tuple)\n",
    "\n",
    "        ngram_list.append(doc_ngrams)\n",
    "\n",
    "    # Return the list of n-grams for each document\n",
    "    return ngram_list\n",
    "\n",
    "\n",
    "def ngrams_to_vector(ngrams, vocabulary):\n",
    "\n",
    "    vector = []\n",
    "    # Iterate over each document in the ngrams list\n",
    "    for doc in ngrams:\n",
    "        # Calculate the word frequency for the current document\n",
    "        doc_counts = calculatewordfreq(doc)\n",
    "\n",
    "        # Create a vector representation for the current document based on the vocabulary\n",
    "        doc_vector = []\n",
    "        for term in vocabulary:\n",
    "            # Get the count of the current term in the document; if not found, default to 0\n",
    "            count = doc_counts.get(term, 0)\n",
    "            doc_vector.append(count)\n",
    "\n",
    "        # Append the document vector to the overall vector list\n",
    "        vector.append(doc_vector)\n",
    "\n",
    "    # Return the vector representation of all documents\n",
    "    return vector\n",
    "\n",
    "\n",
    "data = pd.read_csv(\n",
    "    '/Users/swastikagarwal/Downloads/SEM5_RVCE/LAB WORK/NLP/nlp dataset/Musical_instruments_reviews 4.csv')\n",
    "x = data.iloc[:, 6]\n",
    "y = data.iloc[:, 5]\n",
    "\n",
    "\n",
    "x_train, x_test, y_train, y_test = train_test_split(\n",
    "    x, y, test_size=0.2, random_state=1)\n",
    "\n",
    "n = int(input(\"Enter the value of n for n-grams: \"))\n",
    "xtrain_ngrams = calculate_ngrams(x_train, n)\n",
    "xtest_ngrams = calculate_ngrams(x_test, n)\n",
    "\n",
    "vocabulary = set()\n",
    "# Iterate over each document in the xtrain_ngrams list\n",
    "for doc in xtrain_ngrams:\n",
    "    # Iterate over each n-gram in the current document\n",
    "    for gram in doc:\n",
    "        # Add the n-gram to the set (if it's not already present)\n",
    "        vocabulary.add(gram)\n",
    "\n",
    "\n",
    "xtrain_vector = ngrams_to_vector(xtrain_ngrams, vocabulary)\n",
    "xtest_vector = ngrams_to_vector(xtest_ngrams, vocabulary)\n",
    "\n",
    "\n",
    "\n",
    "\n",
    "\n",
    "\n"
   ]
  },
  {
   "cell_type": "code",
   "execution_count": 2,
   "metadata": {},
   "outputs": [
    {
     "name": "stdout",
     "output_type": "stream",
     "text": [
      "0.6731612274719923\n"
     ]
    }
   ],
   "source": [
    "# multinomial_nb = LogisticRegression(max_iter=100)\n",
    "multinomial_nb = MultinomialNB()\n",
    "# Training the classifier\n",
    "multinomial_nb.fit(xtrain_vector, y_train)\n",
    "\n",
    "# Making predictions on the test set\n",
    "y_pred = multinomial_nb.predict(xtest_vector)\n",
    "print(accuracy_score(y_test, y_pred))\n"
   ]
  },
  {
   "cell_type": "code",
   "execution_count": 3,
   "metadata": {},
   "outputs": [
    {
     "name": "stdout",
     "output_type": "stream",
     "text": [
      "5.0\n"
     ]
    }
   ],
   "source": [
    "review = \"best product. very useful\"\n",
    "review_ngrams = calculate_ngrams([review], n)\n",
    "review_vector = ngrams_to_vector(review_ngrams, vocabulary)\n",
    "res = multinomial_nb.predict(review_vector)\n",
    "print(res[0])  # Prediction for the review\n"
   ]
  },
  {
   "cell_type": "code",
   "execution_count": 4,
   "metadata": {},
   "outputs": [
    {
     "name": "stdout",
     "output_type": "stream",
     "text": [
      "4.0\n"
     ]
    }
   ],
   "source": [
    "review = \"Didn't fit my 1996 Fender Strat... so its not that good\"\n",
    "review_ngrams = calculate_ngrams([review], n)\n",
    "review_vector = ngrams_to_vector(review_ngrams, vocabulary)\n",
    "res = multinomial_nb.predict(review_vector)\n",
    "print(res[0])  # Prediction for the review\n"
   ]
  },
  {
   "cell_type": "code",
   "execution_count": 5,
   "metadata": {},
   "outputs": [
    {
     "name": "stdout",
     "output_type": "stream",
     "text": [
      "2.0\n"
     ]
    }
   ],
   "source": [
    "review = \"TDefinitely Not For The Seasoned Piano Player what to do.\"\n",
    "review_ngrams = calculate_ngrams([review], n)\n",
    "review_vector = ngrams_to_vector(review_ngrams, vocabulary)\n",
    "res = multinomial_nb.predict(review_vector)\n",
    "print(res[0])  # Prediction for the review\n"
   ]
  },
  {
   "cell_type": "code",
   "execution_count": null,
   "metadata": {},
   "outputs": [],
   "source": []
  }
 ],
 "metadata": {
  "kernelspec": {
   "display_name": "Python 3.9.6 64-bit",
   "language": "python",
   "name": "python3"
  },
  "language_info": {
   "codemirror_mode": {
    "name": "ipython",
    "version": 3
   },
   "file_extension": ".py",
   "mimetype": "text/x-python",
   "name": "python",
   "nbconvert_exporter": "python",
   "pygments_lexer": "ipython3",
   "version": "3.9.6"
  },
  "orig_nbformat": 4,
  "vscode": {
   "interpreter": {
    "hash": "31f2aee4e71d21fbe5cf8b01ff0e069b9275f58929596ceb00d14d90e3e16cd6"
   }
  }
 },
 "nbformat": 4,
 "nbformat_minor": 2
}
